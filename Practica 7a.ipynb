{
 "cells": [
  {
   "cell_type": "code",
   "execution_count": 1,
   "metadata": {},
   "outputs": [],
   "source": [
    "import pandas as pd\n",
    "import matplotlib.pyplot as plt"
   ]
  },
  {
   "cell_type": "code",
   "execution_count": 2,
   "metadata": {},
   "outputs": [
    {
     "data": {
      "text/html": [
       "<div>\n",
       "<style scoped>\n",
       "    .dataframe tbody tr th:only-of-type {\n",
       "        vertical-align: middle;\n",
       "    }\n",
       "\n",
       "    .dataframe tbody tr th {\n",
       "        vertical-align: top;\n",
       "    }\n",
       "\n",
       "    .dataframe thead th {\n",
       "        text-align: right;\n",
       "    }\n",
       "</style>\n",
       "<table border=\"1\" class=\"dataframe\">\n",
       "  <thead>\n",
       "    <tr style=\"text-align: right;\">\n",
       "      <th></th>\n",
       "      <th>Province/State</th>\n",
       "      <th>Country/Region</th>\n",
       "      <th>Last Update</th>\n",
       "      <th>Confirmed</th>\n",
       "      <th>Suspected</th>\n",
       "      <th>Recovered</th>\n",
       "      <th>Death</th>\n",
       "    </tr>\n",
       "  </thead>\n",
       "  <tbody>\n",
       "    <tr>\n",
       "      <td>0</td>\n",
       "      <td>Hubei</td>\n",
       "      <td>Mainland China</td>\n",
       "      <td>2/5/20 16:43</td>\n",
       "      <td>16678.0</td>\n",
       "      <td>0.0</td>\n",
       "      <td>538.0</td>\n",
       "      <td>479.0</td>\n",
       "    </tr>\n",
       "    <tr>\n",
       "      <td>1</td>\n",
       "      <td>Guangdong</td>\n",
       "      <td>Mainland China</td>\n",
       "      <td>2/5/20 13:23</td>\n",
       "      <td>895.0</td>\n",
       "      <td>0.0</td>\n",
       "      <td>49.0</td>\n",
       "      <td>0.0</td>\n",
       "    </tr>\n",
       "    <tr>\n",
       "      <td>2</td>\n",
       "      <td>Zhejiang</td>\n",
       "      <td>Mainland China</td>\n",
       "      <td>2/5/20 15:13</td>\n",
       "      <td>895.0</td>\n",
       "      <td>0.0</td>\n",
       "      <td>78.0</td>\n",
       "      <td>0.0</td>\n",
       "    </tr>\n",
       "    <tr>\n",
       "      <td>3</td>\n",
       "      <td>Henan</td>\n",
       "      <td>Mainland China</td>\n",
       "      <td>2/5/20 15:03</td>\n",
       "      <td>764.0</td>\n",
       "      <td>0.0</td>\n",
       "      <td>47.0</td>\n",
       "      <td>2.0</td>\n",
       "    </tr>\n",
       "    <tr>\n",
       "      <td>4</td>\n",
       "      <td>Hunan</td>\n",
       "      <td>Mainland China</td>\n",
       "      <td>2/5/20 15:23</td>\n",
       "      <td>661.0</td>\n",
       "      <td>0.0</td>\n",
       "      <td>54.0</td>\n",
       "      <td>0.0</td>\n",
       "    </tr>\n",
       "  </tbody>\n",
       "</table>\n",
       "</div>"
      ],
      "text/plain": [
       "  Province/State  Country/Region   Last Update  Confirmed  Suspected  \\\n",
       "0          Hubei  Mainland China  2/5/20 16:43    16678.0        0.0   \n",
       "1      Guangdong  Mainland China  2/5/20 13:23      895.0        0.0   \n",
       "2       Zhejiang  Mainland China  2/5/20 15:13      895.0        0.0   \n",
       "3          Henan  Mainland China  2/5/20 15:03      764.0        0.0   \n",
       "4          Hunan  Mainland China  2/5/20 15:23      661.0        0.0   \n",
       "\n",
       "   Recovered  Death  \n",
       "0      538.0  479.0  \n",
       "1       49.0    0.0  \n",
       "2       78.0    0.0  \n",
       "3       47.0    2.0  \n",
       "4       54.0    0.0  "
      ]
     },
     "execution_count": 2,
     "metadata": {},
     "output_type": "execute_result"
    }
   ],
   "source": [
    "df = pd.read_csv('2019_nCoV_20200121_20200206.csv')\n",
    "df = df.fillna(value = 0) \n",
    "df.head()"
   ]
  },
  {
   "cell_type": "code",
   "execution_count": 3,
   "metadata": {},
   "outputs": [],
   "source": [
    "def Frequency_encoding(df, col):\n",
    "    # Extaemos la columna del Data Frame a transformar\n",
    "    column = df.loc[:,col]\n",
    "    column.value_counts() # estos valores son con los que reemplazaremos las categorias\n",
    "\n",
    "    # Ponemos la columna en una lista\n",
    "    column = column.values\n",
    "    column = column.tolist()\n",
    "\n",
    "    # Creamos un arreglo aux igual a la columna del Data Frame\n",
    "    aux =[]\n",
    "    aux= column[:]\n",
    "\n",
    "    # iteramos por cada elemento en la columna para modificar \n",
    "    for i in range(len(aux)):\n",
    "        # Categoria = frecuencia que aparece en la columna  \n",
    "        aux[i] = column.count(aux[i])\n",
    "\n",
    "    # Convertimos la lista en DataFrame\n",
    "    aux = pd.DataFrame(aux)\n",
    "    col_1 = col + '_Fe' \n",
    "    #Añadimos aux al DataFrame original \n",
    "    df.insert(0,col_1,aux)\n",
    "\n",
    "    df.drop(col,axis=1, inplace=True)"
   ]
  },
  {
   "cell_type": "code",
   "execution_count": 4,
   "metadata": {},
   "outputs": [
    {
     "data": {
      "text/html": [
       "<div>\n",
       "<style scoped>\n",
       "    .dataframe tbody tr th:only-of-type {\n",
       "        vertical-align: middle;\n",
       "    }\n",
       "\n",
       "    .dataframe tbody tr th {\n",
       "        vertical-align: top;\n",
       "    }\n",
       "\n",
       "    .dataframe thead th {\n",
       "        text-align: right;\n",
       "    }\n",
       "</style>\n",
       "<table border=\"1\" class=\"dataframe\">\n",
       "  <thead>\n",
       "    <tr style=\"text-align: right;\">\n",
       "      <th></th>\n",
       "      <th>Country/Region_Fe</th>\n",
       "      <th>Province/State_Fe</th>\n",
       "      <th>Confirmed</th>\n",
       "      <th>Recovered</th>\n",
       "      <th>Death</th>\n",
       "    </tr>\n",
       "  </thead>\n",
       "  <tbody>\n",
       "    <tr>\n",
       "      <td>0</td>\n",
       "      <td>1028</td>\n",
       "      <td>34</td>\n",
       "      <td>16678.0</td>\n",
       "      <td>538.0</td>\n",
       "      <td>479.0</td>\n",
       "    </tr>\n",
       "    <tr>\n",
       "      <td>1</td>\n",
       "      <td>1028</td>\n",
       "      <td>34</td>\n",
       "      <td>895.0</td>\n",
       "      <td>49.0</td>\n",
       "      <td>0.0</td>\n",
       "    </tr>\n",
       "    <tr>\n",
       "      <td>2</td>\n",
       "      <td>1028</td>\n",
       "      <td>34</td>\n",
       "      <td>895.0</td>\n",
       "      <td>78.0</td>\n",
       "      <td>0.0</td>\n",
       "    </tr>\n",
       "    <tr>\n",
       "      <td>3</td>\n",
       "      <td>1028</td>\n",
       "      <td>34</td>\n",
       "      <td>764.0</td>\n",
       "      <td>47.0</td>\n",
       "      <td>2.0</td>\n",
       "    </tr>\n",
       "    <tr>\n",
       "      <td>4</td>\n",
       "      <td>1028</td>\n",
       "      <td>34</td>\n",
       "      <td>661.0</td>\n",
       "      <td>54.0</td>\n",
       "      <td>0.0</td>\n",
       "    </tr>\n",
       "  </tbody>\n",
       "</table>\n",
       "</div>"
      ],
      "text/plain": [
       "   Country/Region_Fe  Province/State_Fe  Confirmed  Recovered  Death\n",
       "0               1028                 34    16678.0      538.0  479.0\n",
       "1               1028                 34      895.0       49.0    0.0\n",
       "2               1028                 34      895.0       78.0    0.0\n",
       "3               1028                 34      764.0       47.0    2.0\n",
       "4               1028                 34      661.0       54.0    0.0"
      ]
     },
     "execution_count": 4,
     "metadata": {},
     "output_type": "execute_result"
    }
   ],
   "source": [
    "Frequency_encoding(df, 'Province/State')\n",
    "Frequency_encoding(df, 'Country/Region')\n",
    "df.drop(['Suspected', 'Last Update'],axis=1, inplace=True)\n",
    "df.head()"
   ]
  },
  {
   "cell_type": "code",
   "execution_count": 5,
   "metadata": {},
   "outputs": [],
   "source": [
    "# Definimos quién es X y quién y\n",
    "X = df.iloc[:, :-2].values\n",
    "y = df.iloc[:, -1].values"
   ]
  },
  {
   "cell_type": "code",
   "execution_count": 6,
   "metadata": {},
   "outputs": [],
   "source": [
    "# Splitting the dataset into the Training set and Test set\n",
    "from sklearn.model_selection import train_test_split\n",
    "X_train, X_test, y_train, y_test = train_test_split(X, y, test_size = 1/3, random_state = 123)"
   ]
  },
  {
   "cell_type": "code",
   "execution_count": 7,
   "metadata": {},
   "outputs": [
    {
     "data": {
      "text/plain": [
       "LinearRegression(copy_X=True, fit_intercept=True, n_jobs=None, normalize=False)"
      ]
     },
     "execution_count": 7,
     "metadata": {},
     "output_type": "execute_result"
    }
   ],
   "source": [
    "# Fitting Simple Linear Regression to the Training set \n",
    "from sklearn.linear_model import LinearRegression \n",
    "model = LinearRegression()\n",
    "model.fit(X_train, y_train)"
   ]
  },
  {
   "cell_type": "code",
   "execution_count": 8,
   "metadata": {},
   "outputs": [
    {
     "name": "stdout",
     "output_type": "stream",
     "text": [
      "Desempeño del modelo:  0.9882656774083322\n"
     ]
    }
   ],
   "source": [
    "# Predicting the Test set results \n",
    "y_pred = model.predict(X_test)\n",
    "print (\"Desempeño del modelo: \", model.score(X_test, y_test))"
   ]
  },
  {
   "cell_type": "code",
   "execution_count": 9,
   "metadata": {},
   "outputs": [],
   "source": [
    "from sklearn.model_selection import KFold\n",
    "from sklearn.model_selection import train_test_split\n",
    "from sklearn.model_selection import cross_val_score"
   ]
  },
  {
   "cell_type": "code",
   "execution_count": 10,
   "metadata": {},
   "outputs": [
    {
     "name": "stdout",
     "output_type": "stream",
     "text": [
      "Desepeño de cross-validation con 5 volúmenes: 0.9378998477975898\n"
     ]
    }
   ],
   "source": [
    "kf = KFold(n_splits=5, shuffle=True, random_state=123)\n",
    "cv_scores = cross_val_score(model, X_train, y_train, cv=kf)\n",
    "print(\"Desepeño de cross-validation con 5 volúmenes:\", cv_scores.mean())"
   ]
  }
 ],
 "metadata": {
  "kernelspec": {
   "display_name": "Python 3",
   "language": "python",
   "name": "python3"
  },
  "language_info": {
   "codemirror_mode": {
    "name": "ipython",
    "version": 3
   },
   "file_extension": ".py",
   "mimetype": "text/x-python",
   "name": "python",
   "nbconvert_exporter": "python",
   "pygments_lexer": "ipython3",
   "version": "3.7.4"
  }
 },
 "nbformat": 4,
 "nbformat_minor": 2
}
